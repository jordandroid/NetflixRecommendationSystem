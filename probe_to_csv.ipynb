{
 "cells": [
  {
   "cell_type": "code",
   "execution_count": 7,
   "id": "convinced-affiliate",
   "metadata": {},
   "outputs": [],
   "source": [
    "import os\n",
    "import re\n",
    "import pandas"
   ]
  },
  {
   "cell_type": "code",
   "execution_count": 8,
   "id": "welsh-large",
   "metadata": {},
   "outputs": [],
   "source": [
    "docList = []\n",
    "dirPath = \"project_data/\"\n",
    "for filename in os.listdir(dirPath):\n",
    "    if (re.search(\"^probe.*.txt$\", filename) is not None):\n",
    "        docList.append(dirPath+filename)"
   ]
  },
  {
   "cell_type": "code",
   "execution_count": 11,
   "id": "clinical-first",
   "metadata": {},
   "outputs": [],
   "source": [
    "dic = []\n",
    "for fileName in docList:\n",
    "   with open(fileName, 'r+') as file:\n",
    "    for _, line in enumerate(file):\n",
    "        if ':' in line:\n",
    "            movie_id= int(line.replace(':', '').replace('\\n', ''))\n",
    "        else:\n",
    "            (user_id) = line.replace(\"\\n\",\"\")\n",
    "            tempDic = {\"movie_id\" : movie_id, \"user_id\" : user_id}\n",
    "            dic.append(tempDic)\n",
    "    file.close()"
   ]
  },
  {
   "cell_type": "code",
   "execution_count": 4,
   "id": "automotive-creator",
   "metadata": {},
   "outputs": [],
   "source": [
    "dataframe = pandas.DataFrame.from_dict(dic)"
   ]
  },
  {
   "cell_type": "code",
   "execution_count": 5,
   "id": "exempt-stretch",
   "metadata": {},
   "outputs": [
    {
     "name": "stdout",
     "output_type": "stream",
     "text": [
      "1408395\n"
     ]
    }
   ],
   "source": [
    "print(len(dataframe))"
   ]
  },
  {
   "cell_type": "code",
   "execution_count": 6,
   "id": "northern-constraint",
   "metadata": {},
   "outputs": [],
   "source": [
    "dataframe.to_csv(\"prob.csv\")"
   ]
  },
  {
   "cell_type": "code",
   "execution_count": null,
   "id": "following-providence",
   "metadata": {},
   "outputs": [],
   "source": []
  }
 ],
 "metadata": {
  "kernelspec": {
   "display_name": "Python 3",
   "language": "python",
   "name": "python3"
  },
  "language_info": {
   "codemirror_mode": {
    "name": "ipython",
    "version": 3
   },
   "file_extension": ".py",
   "mimetype": "text/x-python",
   "name": "python",
   "nbconvert_exporter": "python",
   "pygments_lexer": "ipython3",
   "version": "3.7.4"
  }
 },
 "nbformat": 4,
 "nbformat_minor": 5
}
